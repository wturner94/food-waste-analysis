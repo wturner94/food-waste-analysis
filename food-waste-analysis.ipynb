{
 "cells": [
  {
   "cell_type": "markdown",
   "metadata": {},
   "source": [
    "## introduction\n",
    "\n",
    "This analysis aims to explore some of the reasons why some countries have significantly more food waste than others, through the lens of economy, population density, and ____.<br>\n",
    "Wealthier countries may have higher levels of food waste due to increased consumption and a higher standard of living."
   ]
  },
  {
   "cell_type": "markdown",
   "metadata": {},
   "source": [
    "## importing necessary libraries"
   ]
  },
  {
   "cell_type": "code",
   "execution_count": 14,
   "metadata": {},
   "outputs": [],
   "source": [
    "import pandas as pd\n",
    "import os\n",
    "import matplotlib.pyplot as plt\n",
    "import seaborn as sns"
   ]
  },
  {
   "cell_type": "markdown",
   "metadata": {},
   "source": [
    "**LOAD DATA**\n",
    "\n",
    "***Datasets used***\n",
    "\n",
    "Food waste by country (.CSV)\n",
    "> https://www.kaggle.com/datasets/joebeachcapital/food-waste/data\n",
    "\n",
    "GDP per capita (wealth) by country dataset (.CSV)\n",
    "> https://data.worldbank.org/indicator/NY.GDP.PCAP.CD\n",
    "\n",
    "Population density by country dataset (.CSV)\n",
    "> https://data.worldbank.org/indicator/EN.POP.DNST\n",
    "\n"
   ]
  }
 ],
 "metadata": {
  "kernelspec": {
   "display_name": "Python 3",
   "language": "python",
   "name": "python3"
  },
  "language_info": {
   "codemirror_mode": {
    "name": "ipython",
    "version": 3
   },
   "file_extension": ".py",
   "mimetype": "text/x-python",
   "name": "python",
   "nbconvert_exporter": "python",
   "pygments_lexer": "ipython3",
   "version": "3.11.6"
  }
 },
 "nbformat": 4,
 "nbformat_minor": 2
}
